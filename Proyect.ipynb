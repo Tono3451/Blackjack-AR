{
 "cells": [
  {
   "cell_type": "markdown",
   "metadata": {},
   "source": [
    "# Blackjack AR"
   ]
  },
  {
   "cell_type": "code",
   "execution_count": null,
   "metadata": {},
   "outputs": [],
   "source": [
    "#cartas de poker\n",
    "class Carta:\n",
    "    def __init__(self, palo, valor, imagen):\n",
    "        self.palo = palo\n",
    "        self.valor = valor\n",
    "        self.imagen = imagen\n",
    "        self.enJuego = False\n",
    "\n",
    "    def __str__(self):\n",
    "        return f\"{self.valor} de {self.palo}\""
   ]
  },
  {
   "cell_type": "code",
   "execution_count": null,
   "metadata": {},
   "outputs": [],
   "source": [
    "def init_cartas():\n",
    "    palos = ['clubs', 'diamonds', 'heards', 'spades']\n",
    "    valores = ['2', '3', '4', '5', '6', '7', '8', '9', '10', 'jack', 'queen', 'king', 'ace']\n",
    "    imagenes = []\n",
    "    for palo in palos:\n",
    "        for valor in valores:\n",
    "            imagenes.append(f\"cartas/{valor}{palo[0].upper()}.png\")\n",
    "    return [Carta(palo, valor, imagen) for palo in palos for valor in valores for imagen in imagenes]"
   ]
  },
  {
   "cell_type": "code",
   "execution_count": null,
   "metadata": {},
   "outputs": [],
   "source": [
    "import cv2\n",
    "import numpy as np\n",
    "from mediapipe import solutions\n",
    "from mediapipe.framework.formats import landmark_pb2\n",
    "\n",
    "#Capturar video desde la cámara\n",
    "cap = cv2.VideoCapture(0)\n",
    "while True:\n",
    "    ret, frame = cap.read()\n",
    "    if not ret:\n",
    "        break\n",
    "    \n",
    "   \n",
    "    # Mostrar el frame con el escudo, bufanda y marcas de colores\n",
    "    cv2.imshow(\"Detección de Rostros con Bufanda y Marcas\", frame)\n",
    "\n",
    "    # Salir si se presiona escape\n",
    "    if cv2.waitKey(1) & 0xFF == 27:\n",
    "        break\n",
    "\n",
    "cap.release()\n",
    "cv2.destroyAllWindows()"
   ]
  }
 ],
 "metadata": {
  "kernelspec": {
   "display_name": "BlackjackAR",
   "language": "python",
   "name": "python3"
  },
  "language_info": {
   "codemirror_mode": {
    "name": "ipython",
    "version": 3
   },
   "file_extension": ".py",
   "mimetype": "text/x-python",
   "name": "python",
   "nbconvert_exporter": "python",
   "pygments_lexer": "ipython3",
   "version": "3.11.5"
  }
 },
 "nbformat": 4,
 "nbformat_minor": 2
}
