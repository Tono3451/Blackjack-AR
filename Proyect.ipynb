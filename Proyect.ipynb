{
 "cells": [
  {
   "cell_type": "markdown",
   "metadata": {},
   "source": [
    "# Blackjack AR"
   ]
  },
  {
   "cell_type": "code",
   "execution_count": null,
   "metadata": {},
   "outputs": [],
   "source": [
    "#cartas de poker\n",
    "class Card:\n",
    "    def __init__(self, suit, value, image):\n",
    "        self.suit = suit\n",
    "        self.value = value\n",
    "        self.image = image\n",
    "        self.inGame = False"
   ]
  },
  {
   "cell_type": "code",
   "execution_count": null,
   "metadata": {},
   "outputs": [],
   "source": [
    "def init_cartas():\n",
    "    for suit in suits:\n",
    "        for value in values:\n",
    "            card = Card(suit, value, f'cartas/{value}_of_{suit}.png')\n",
    "            objects.append(card)\n",
    "\n",
    "suits = ['clubs', 'diamonds', 'heards', 'spades']\n",
    "values = ['2', '3', '4', '5', '6', '7', '8', '9', '10', 'jack', 'queen', 'king', 'ace']\n",
    "objects = []\n",
    "\n",
    "init_cartas()"
   ]
  },
  {
   "cell_type": "code",
   "execution_count": null,
   "metadata": {},
   "outputs": [],
   "source": [
    "import cv2\n",
    "import numpy as np\n",
    "from mediapipe import solutions\n",
    "from mediapipe.framework.formats import landmark_pb2\n",
    "\n",
    "#Capturar video desde la cámara\n",
    "cap = cv2.VideoCapture(0)\n",
    "while True:\n",
    "    ret, frame = cap.read()\n",
    "    if not ret:\n",
    "        break\n",
    "    \n",
    "   \n",
    "    # Mostrar el frame con el escudo, bufanda y marcas de colores\n",
    "    cv2.imshow(\"Detección de Rostros con Bufanda y Marcas\", frame)\n",
    "\n",
    "    # Salir si se presiona escape\n",
    "    if cv2.waitKey(1) & 0xFF == 27:\n",
    "        break\n",
    "\n",
    "cap.release()\n",
    "cv2.destroyAllWindows()"
   ]
  }
 ],
 "metadata": {
  "kernelspec": {
   "display_name": "BlackjackAR",
   "language": "python",
   "name": "python3"
  },
  "language_info": {
   "codemirror_mode": {
    "name": "ipython",
    "version": 3
   },
   "file_extension": ".py",
   "mimetype": "text/x-python",
   "name": "python",
   "nbconvert_exporter": "python",
   "pygments_lexer": "ipython3",
   "version": "3.11.5"
  }
 },
 "nbformat": 4,
 "nbformat_minor": 2
}
